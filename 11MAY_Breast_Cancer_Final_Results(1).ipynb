{
  "nbformat": 4,
  "nbformat_minor": 0,
  "metadata": {
    "colab": {
      "name": "11MAY-Breast_Cancer_Final_Results.ipynb",
      "version": "0.3.2",
      "views": {},
      "default_view": {},
      "provenance": [],
      "collapsed_sections": []
    },
    "kernelspec": {
      "name": "python3",
      "display_name": "Python 3"
    },
    "accelerator": "GPU"
  },
  "cells": [
    {
      "metadata": {
        "id": "WTEBx3V5ANU0",
        "colab_type": "code",
        "colab": {
          "autoexec": {
            "startup": false,
            "wait_interval": 0
          },
          "base_uri": "https://localhost:8080/",
          "height": 2416
        },
        "outputId": "ffc0f441-fd68-4ad0-c0eb-b2eaf9bb3773",
        "executionInfo": {
          "status": "ok",
          "timestamp": 1526287515410,
          "user_tz": -180,
          "elapsed": 44242,
          "user": {
            "displayName": "Tuğçe Ünlü",
            "photoUrl": "https://lh3.googleusercontent.com/a/default-user=s128",
            "userId": "115370418158707249539"
          }
        }
      },
      "cell_type": "code",
      "source": [
        "!apt-get install -y -qq software-properties-common python-software-properties module-init-tools\n",
        "!add-apt-repository -y ppa:alessandro-strada/ppa 2>&1 > /dev/null\n",
        "!apt-get update -qq 2>&1 > /dev/null\n",
        "!apt-get -y install -qq google-drive-ocamlfuse fuse\n",
        "from google.colab import auth\n",
        "auth.authenticate_user()\n",
        "from oauth2client.client import GoogleCredentials\n",
        "creds = GoogleCredentials.get_application_default()\n",
        "import getpass\n",
        "!google-drive-ocamlfuse -headless -id={creds.client_id} -secret={creds.client_secret} < /dev/null 2>&1 | grep URL\n",
        "vcode = getpass.getpass()\n",
        "!echo {vcode} | google-drive-ocamlfuse -headless -id={creds.client_id} -secret={creds.client_secret}"
      ],
      "execution_count": 2,
      "outputs": [
        {
          "output_type": "stream",
          "text": [
            "Preconfiguring packages ...\n",
            "Selecting previously unselected package cron.\n",
            "(Reading database ... 18298 files and directories currently installed.)\n",
            "Preparing to unpack .../00-cron_3.0pl1-128ubuntu5_amd64.deb ...\n",
            "Unpacking cron (3.0pl1-128ubuntu5) ...\n",
            "Selecting previously unselected package libapparmor1:amd64.\n",
            "Preparing to unpack .../01-libapparmor1_2.11.0-2ubuntu17.1_amd64.deb ...\n",
            "Unpacking libapparmor1:amd64 (2.11.0-2ubuntu17.1) ...\n",
            "Selecting previously unselected package libdbus-1-3:amd64.\n",
            "Preparing to unpack .../02-libdbus-1-3_1.10.22-1ubuntu1_amd64.deb ...\n",
            "Unpacking libdbus-1-3:amd64 (1.10.22-1ubuntu1) ...\n",
            "Selecting previously unselected package dbus.\n",
            "Preparing to unpack .../03-dbus_1.10.22-1ubuntu1_amd64.deb ...\n",
            "Unpacking dbus (1.10.22-1ubuntu1) ...\n",
            "Selecting previously unselected package dirmngr.\n",
            "Preparing to unpack .../04-dirmngr_2.1.15-1ubuntu8_amd64.deb ...\n",
            "Unpacking dirmngr (2.1.15-1ubuntu8) ...\n",
            "Selecting previously unselected package distro-info-data.\n",
            "Preparing to unpack .../05-distro-info-data_0.36ubuntu0.2_all.deb ...\n",
            "Unpacking distro-info-data (0.36ubuntu0.2) ...\n",
            "Selecting previously unselected package libkmod2:amd64.\n",
            "Preparing to unpack .../06-libkmod2_24-1ubuntu2_amd64.deb ...\n",
            "Unpacking libkmod2:amd64 (24-1ubuntu2) ...\n",
            "Selecting previously unselected package kmod.\n",
            "Preparing to unpack .../07-kmod_24-1ubuntu2_amd64.deb ...\n",
            "Unpacking kmod (24-1ubuntu2) ...\n",
            "Selecting previously unselected package lsb-release.\n",
            "Preparing to unpack .../08-lsb-release_9.20160110ubuntu5_all.deb ...\n",
            "Unpacking lsb-release (9.20160110ubuntu5) ...\n",
            "Selecting previously unselected package libgirepository-1.0-1:amd64.\n",
            "Preparing to unpack .../09-libgirepository-1.0-1_1.54.1-1_amd64.deb ...\n",
            "Unpacking libgirepository-1.0-1:amd64 (1.54.1-1) ...\n",
            "Selecting previously unselected package gir1.2-glib-2.0:amd64.\n",
            "Preparing to unpack .../10-gir1.2-glib-2.0_1.54.1-1_amd64.deb ...\n",
            "Unpacking gir1.2-glib-2.0:amd64 (1.54.1-1) ...\n",
            "Selecting previously unselected package iso-codes.\n",
            "Preparing to unpack .../11-iso-codes_3.75-1_all.deb ...\n",
            "Unpacking iso-codes (3.75-1) ...\n",
            "Selecting previously unselected package libdbus-glib-1-2:amd64.\n",
            "Preparing to unpack .../12-libdbus-glib-1-2_0.108-2_amd64.deb ...\n",
            "Unpacking libdbus-glib-1-2:amd64 (0.108-2) ...\n",
            "Selecting previously unselected package python-apt-common.\n",
            "Preparing to unpack .../13-python-apt-common_1.4.0~beta3build2_all.deb ...\n",
            "Unpacking python-apt-common (1.4.0~beta3build2) ...\n",
            "Selecting previously unselected package python3-apt.\n",
            "Preparing to unpack .../14-python3-apt_1.4.0~beta3build2_amd64.deb ...\n",
            "Unpacking python3-apt (1.4.0~beta3build2) ...\n",
            "Selecting previously unselected package python3-dbus.\n",
            "Preparing to unpack .../15-python3-dbus_1.2.4-1build3_amd64.deb ...\n",
            "Unpacking python3-dbus (1.2.4-1build3) ...\n",
            "Selecting previously unselected package python3-gi.\n",
            "Preparing to unpack .../16-python3-gi_3.24.1-2build1_amd64.deb ...\n",
            "Unpacking python3-gi (3.24.1-2build1) ...\n",
            "Selecting previously unselected package module-init-tools.\n",
            "Preparing to unpack .../17-module-init-tools_24-1ubuntu2_all.deb ...\n",
            "Unpacking module-init-tools (24-1ubuntu2) ...\n",
            "Selecting previously unselected package python-apt.\n",
            "Preparing to unpack .../18-python-apt_1.4.0~beta3build2_amd64.deb ...\n",
            "Unpacking python-apt (1.4.0~beta3build2) ...\n",
            "Selecting previously unselected package python-pycurl.\n",
            "Preparing to unpack .../19-python-pycurl_7.43.0-2build2_amd64.deb ...\n",
            "Unpacking python-pycurl (7.43.0-2build2) ...\n",
            "Selecting previously unselected package python-software-properties.\n",
            "Preparing to unpack .../20-python-software-properties_0.96.24.17_all.deb ...\n",
            "Unpacking python-software-properties (0.96.24.17) ...\n",
            "Selecting previously unselected package python3-software-properties.\n",
            "Preparing to unpack .../21-python3-software-properties_0.96.24.17_all.deb ...\n",
            "Unpacking python3-software-properties (0.96.24.17) ...\n",
            "Selecting previously unselected package software-properties-common.\n",
            "Preparing to unpack .../22-software-properties-common_0.96.24.17_all.deb ...\n",
            "Unpacking software-properties-common (0.96.24.17) ...\n",
            "Selecting previously unselected package unattended-upgrades.\n",
            "Preparing to unpack .../23-unattended-upgrades_0.98ubuntu1.1_all.deb ...\n",
            "Unpacking unattended-upgrades (0.98ubuntu1.1) ...\n",
            "Setting up python-apt-common (1.4.0~beta3build2) ...\n",
            "Setting up python3-apt (1.4.0~beta3build2) ...\n",
            "Setting up iso-codes (3.75-1) ...\n",
            "Setting up distro-info-data (0.36ubuntu0.2) ...\n",
            "Setting up python-pycurl (7.43.0-2build2) ...\n",
            "Setting up lsb-release (9.20160110ubuntu5) ...\n",
            "Setting up libgirepository-1.0-1:amd64 (1.54.1-1) ...\n",
            "Setting up libkmod2:amd64 (24-1ubuntu2) ...\n",
            "Setting up gir1.2-glib-2.0:amd64 (1.54.1-1) ...\n"
          ],
          "name": "stdout"
        },
        {
          "output_type": "stream",
          "text": [
            "Processing triggers for libc-bin (2.26-0ubuntu2.1) ...\n",
            "Setting up libapparmor1:amd64 (2.11.0-2ubuntu17.1) ...\n",
            "Setting up unattended-upgrades (0.98ubuntu1.1) ...\n",
            "\n",
            "Creating config file /etc/apt/apt.conf.d/20auto-upgrades with new version\n",
            "\n",
            "Creating config file /etc/apt/apt.conf.d/50unattended-upgrades with new version\n",
            "invoke-rc.d: could not determine current runlevel\n",
            "invoke-rc.d: policy-rc.d denied execution of start.\n",
            "Setting up dirmngr (2.1.15-1ubuntu8) ...\n",
            "Setting up cron (3.0pl1-128ubuntu5) ...\n",
            "Adding group `crontab' (GID 102) ...\n",
            "Done.\n",
            "update-rc.d: warning: start and stop actions are no longer supported; falling back to defaults\n",
            "update-rc.d: warning: stop runlevel arguments (1) do not match cron Default-Stop values (none)\n",
            "invoke-rc.d: could not determine current runlevel\n",
            "invoke-rc.d: policy-rc.d denied execution of start.\n",
            "Setting up libdbus-1-3:amd64 (1.10.22-1ubuntu1) ...\n",
            "Setting up kmod (24-1ubuntu2) ...\n",
            "Setting up libdbus-glib-1-2:amd64 (0.108-2) ...\n",
            "Setting up python3-gi (3.24.1-2build1) ...\n",
            "Setting up module-init-tools (24-1ubuntu2) ...\n",
            "Setting up python3-software-properties (0.96.24.17) ...\n",
            "Setting up dbus (1.10.22-1ubuntu1) ...\n",
            "Setting up python-apt (1.4.0~beta3build2) ...\n",
            "Setting up python3-dbus (1.2.4-1build3) ...\n",
            "Setting up python-software-properties (0.96.24.17) ...\n",
            "Setting up software-properties-common (0.96.24.17) ...\n",
            "Processing triggers for libc-bin (2.26-0ubuntu2.1) ...\n",
            "Processing triggers for dbus (1.10.22-1ubuntu1) ...\n",
            "gpg: keybox '/tmp/tmpi2n9jigx/pubring.gpg' created\n",
            "gpg: /tmp/tmpi2n9jigx/trustdb.gpg: trustdb created\n",
            "gpg: key AD5F235DF639B041: public key \"Launchpad PPA for Alessandro Strada\" imported\n",
            "gpg: Total number processed: 1\n",
            "gpg:               imported: 1\n",
            "Warning: apt-key output should not be parsed (stdout is not a terminal)\n",
            "Selecting previously unselected package libfuse2:amd64.\n",
            "(Reading database ... 19706 files and directories currently installed.)\n",
            "Preparing to unpack .../libfuse2_2.9.7-1ubuntu1_amd64.deb ...\n",
            "Unpacking libfuse2:amd64 (2.9.7-1ubuntu1) ...\n",
            "Selecting previously unselected package fuse.\n",
            "Preparing to unpack .../fuse_2.9.7-1ubuntu1_amd64.deb ...\n",
            "Unpacking fuse (2.9.7-1ubuntu1) ...\n",
            "Selecting previously unselected package google-drive-ocamlfuse.\n",
            "Preparing to unpack .../google-drive-ocamlfuse_0.6.21-0ubuntu2_amd64.deb ...\n",
            "Unpacking google-drive-ocamlfuse (0.6.21-0ubuntu2) ...\n",
            "Setting up libfuse2:amd64 (2.9.7-1ubuntu1) ...\n",
            "Processing triggers for libc-bin (2.26-0ubuntu2.1) ...\n",
            "Setting up fuse (2.9.7-1ubuntu1) ...\n",
            "Setting up google-drive-ocamlfuse (0.6.21-0ubuntu2) ...\n",
            "Please, open the following URL in a web browser: https://accounts.google.com/o/oauth2/auth?client_id=32555940559.apps.googleusercontent.com&redirect_uri=urn%3Aietf%3Awg%3Aoauth%3A2.0%3Aoob&scope=https%3A%2F%2Fwww.googleapis.com%2Fauth%2Fdrive&response_type=code&access_type=offline&approval_prompt=force\n",
            "··········\n",
            "Please, open the following URL in a web browser: https://accounts.google.com/o/oauth2/auth?client_id=32555940559.apps.googleusercontent.com&redirect_uri=urn%3Aietf%3Awg%3Aoauth%3A2.0%3Aoob&scope=https%3A%2F%2Fwww.googleapis.com%2Fauth%2Fdrive&response_type=code&access_type=offline&approval_prompt=force\n",
            "Please enter the verification code: Access token retrieved correctly.\n"
          ],
          "name": "stdout"
        }
      ]
    },
    {
      "metadata": {
        "id": "pKWHmslCnLCs",
        "colab_type": "code",
        "colab": {
          "autoexec": {
            "startup": false,
            "wait_interval": 0
          },
          "base_uri": "https://localhost:8080/",
          "height": 52
        },
        "outputId": "56c44b62-25d9-4ef1-cc60-408d71db19a3",
        "executionInfo": {
          "status": "ok",
          "timestamp": 1526296976600,
          "user_tz": -180,
          "elapsed": 5284,
          "user": {
            "displayName": "Tuğçe Ünlü",
            "photoUrl": "https://lh3.googleusercontent.com/a/default-user=s128",
            "userId": "115370418158707249539"
          }
        }
      },
      "cell_type": "code",
      "source": [
        "!mkdir -p drive\n",
        "!google-drive-ocamlfuse drive"
      ],
      "execution_count": 1,
      "outputs": [
        {
          "output_type": "stream",
          "text": [
            "fuse: mountpoint is not empty\r\n",
            "fuse: if you are sure this is safe, use the 'nonempty' mount option\r\n"
          ],
          "name": "stdout"
        }
      ]
    },
    {
      "metadata": {
        "id": "54hHsHkdnRRC",
        "colab_type": "code",
        "colab": {
          "autoexec": {
            "startup": false,
            "wait_interval": 0
          }
        }
      },
      "cell_type": "code",
      "source": [
        "import sys\n",
        "sys.path.insert(0, 'drive/Ashoka forms/')\n",
        "#sys.path.insert(1, 'drive')\n",
        "PATH = 'drive/Ashoka forms/'"
      ],
      "execution_count": 0,
      "outputs": []
    },
    {
      "metadata": {
        "id": "4Z3mUlkMJ1wr",
        "colab_type": "code",
        "colab": {
          "autoexec": {
            "startup": false,
            "wait_interval": 0
          },
          "base_uri": "https://localhost:8080/",
          "height": 853
        },
        "outputId": "ed050e44-db75-4fab-fb73-c5ab1e88defa",
        "executionInfo": {
          "status": "ok",
          "timestamp": 1526296981399,
          "user_tz": -180,
          "elapsed": 3027,
          "user": {
            "displayName": "Tuğçe Ünlü",
            "photoUrl": "https://lh3.googleusercontent.com/a/default-user=s128",
            "userId": "115370418158707249539"
          }
        }
      },
      "cell_type": "code",
      "source": [
        "!python -m pip install --user numpy scipy matplotlib ipython jupyter pandas sympy nose"
      ],
      "execution_count": 3,
      "outputs": [
        {
          "output_type": "stream",
          "text": [
            "Requirement already satisfied: numpy in /usr/local/lib/python3.6/dist-packages (1.14.3)\r\n",
            "Requirement already satisfied: scipy in /usr/local/lib/python3.6/dist-packages (0.19.1)\r\n",
            "Requirement already satisfied: matplotlib in /usr/local/lib/python3.6/dist-packages (2.1.2)\r\n",
            "Requirement already satisfied: ipython in /usr/local/lib/python3.6/dist-packages (5.5.0)\n",
            "Requirement already satisfied: jupyter in ./.local/lib/python3.6/site-packages (1.0.0)\n",
            "Requirement already satisfied: pandas in /usr/local/lib/python3.6/dist-packages (0.22.0)\n",
            "Requirement already satisfied: sympy in /usr/local/lib/python3.6/dist-packages (1.1.1)\n",
            "Requirement already satisfied: nose in ./.local/lib/python3.6/site-packages (1.3.7)\n",
            "Requirement already satisfied: cycler>=0.10 in /usr/local/lib/python3.6/dist-packages (from matplotlib) (0.10.0)\n",
            "Requirement already satisfied: pytz in /usr/local/lib/python3.6/dist-packages (from matplotlib) (2018.4)\n",
            "Requirement already satisfied: pyparsing!=2.0.4,!=2.1.2,!=2.1.6,>=2.0.1 in /usr/local/lib/python3.6/dist-packages (from matplotlib) (2.2.0)\n",
            "Requirement already satisfied: six>=1.10 in /usr/local/lib/python3.6/dist-packages (from matplotlib) (1.11.0)\n",
            "Requirement already satisfied: python-dateutil>=2.1 in /usr/local/lib/python3.6/dist-packages (from matplotlib) (2.5.3)\n",
            "Requirement already satisfied: pygments in /usr/local/lib/python3.6/dist-packages (from ipython) (2.1.3)\n",
            "Requirement already satisfied: traitlets>=4.2 in /usr/local/lib/python3.6/dist-packages (from ipython) (4.3.2)\n",
            "Requirement already satisfied: simplegeneric>0.8 in /usr/local/lib/python3.6/dist-packages (from ipython) (0.8.1)\n",
            "Requirement already satisfied: decorator in /usr/local/lib/python3.6/dist-packages (from ipython) (4.3.0)\n",
            "Requirement already satisfied: pickleshare in /usr/local/lib/python3.6/dist-packages (from ipython) (0.7.4)\n",
            "Requirement already satisfied: prompt-toolkit<2.0.0,>=1.0.4 in /usr/local/lib/python3.6/dist-packages (from ipython) (1.0.15)\n",
            "Requirement already satisfied: pexpect; sys_platform != \"win32\" in /usr/local/lib/python3.6/dist-packages (from ipython) (4.5.0)\n",
            "Requirement already satisfied: setuptools>=18.5 in /usr/local/lib/python3.6/dist-packages (from ipython) (39.1.0)\n",
            "Requirement already satisfied: ipywidgets in ./.local/lib/python3.6/site-packages (from jupyter) (7.2.1)\n",
            "Requirement already satisfied: nbconvert in /usr/local/lib/python3.6/dist-packages (from jupyter) (5.3.1)\n",
            "Requirement already satisfied: qtconsole in ./.local/lib/python3.6/site-packages (from jupyter) (4.3.1)\n",
            "Requirement already satisfied: notebook in /usr/local/lib/python3.6/dist-packages (from jupyter) (5.2.2)\n",
            "Requirement already satisfied: jupyter-console in ./.local/lib/python3.6/site-packages (from jupyter) (5.2.0)\n",
            "Requirement already satisfied: ipykernel in /usr/local/lib/python3.6/dist-packages (from jupyter) (4.6.1)\n",
            "Requirement already satisfied: mpmath>=0.19 in /usr/local/lib/python3.6/dist-packages (from sympy) (1.0.0)\n",
            "Requirement already satisfied: ipython-genutils in /usr/local/lib/python3.6/dist-packages (from traitlets>=4.2->ipython) (0.2.0)\n",
            "Requirement already satisfied: wcwidth in /usr/local/lib/python3.6/dist-packages (from prompt-toolkit<2.0.0,>=1.0.4->ipython) (0.1.7)\n",
            "Requirement already satisfied: ptyprocess>=0.5 in /usr/local/lib/python3.6/dist-packages (from pexpect; sys_platform != \"win32\"->ipython) (0.5.2)\n",
            "Requirement already satisfied: nbformat>=4.2.0 in /usr/local/lib/python3.6/dist-packages (from ipywidgets->jupyter) (4.4.0)\n",
            "Requirement already satisfied: widgetsnbextension~=3.2.0 in ./.local/lib/python3.6/site-packages (from ipywidgets->jupyter) (3.2.1)\n",
            "Requirement already satisfied: jinja2 in /usr/local/lib/python3.6/dist-packages (from nbconvert->jupyter) (2.10)\n",
            "Requirement already satisfied: pandocfilters>=1.4.1 in /usr/local/lib/python3.6/dist-packages (from nbconvert->jupyter) (1.4.2)\n",
            "Requirement already satisfied: testpath in /usr/local/lib/python3.6/dist-packages (from nbconvert->jupyter) (0.3.1)\n",
            "Requirement already satisfied: entrypoints>=0.2.2 in /usr/local/lib/python3.6/dist-packages (from nbconvert->jupyter) (0.2.3)\n",
            "Requirement already satisfied: mistune>=0.7.4 in /usr/local/lib/python3.6/dist-packages (from nbconvert->jupyter) (0.8.3)\n",
            "Requirement already satisfied: bleach in /usr/local/lib/python3.6/dist-packages (from nbconvert->jupyter) (1.5.0)\n",
            "Requirement already satisfied: jupyter-core in /usr/local/lib/python3.6/dist-packages (from nbconvert->jupyter) (4.4.0)\n",
            "Requirement already satisfied: jupyter-client>=4.1 in /usr/local/lib/python3.6/dist-packages (from qtconsole->jupyter) (5.2.3)\n",
            "Requirement already satisfied: terminado>=0.3.3; sys_platform != \"win32\" in /usr/local/lib/python3.6/dist-packages (from notebook->jupyter) (0.8.1)\n",
            "Requirement already satisfied: tornado>=4 in /usr/local/lib/python3.6/dist-packages (from notebook->jupyter) (4.5.3)\n",
            "Requirement already satisfied: jsonschema!=2.5.0,>=2.4 in /usr/local/lib/python3.6/dist-packages (from nbformat>=4.2.0->ipywidgets->jupyter) (2.6.0)\n",
            "Requirement already satisfied: MarkupSafe>=0.23 in /usr/local/lib/python3.6/dist-packages (from jinja2->nbconvert->jupyter) (1.0)\n",
            "Requirement already satisfied: html5lib!=0.9999,!=0.99999,<0.99999999,>=0.999 in /usr/local/lib/python3.6/dist-packages (from bleach->nbconvert->jupyter) (0.9999999)\n",
            "Requirement already satisfied: pyzmq>=13 in /usr/local/lib/python3.6/dist-packages (from jupyter-client>=4.1->qtconsole->jupyter) (16.0.4)\n"
          ],
          "name": "stdout"
        }
      ]
    },
    {
      "metadata": {
        "id": "EXJtPKR4m_CS",
        "colab_type": "code",
        "colab": {
          "autoexec": {
            "startup": false,
            "wait_interval": 0
          },
          "base_uri": "https://localhost:8080/",
          "height": 176
        },
        "outputId": "205dfa67-efa9-4a18-c4f2-82b2ccc9674d",
        "executionInfo": {
          "status": "ok",
          "timestamp": 1526296994264,
          "user_tz": -180,
          "elapsed": 12774,
          "user": {
            "displayName": "Tuğçe Ünlü",
            "photoUrl": "https://lh3.googleusercontent.com/a/default-user=s128",
            "userId": "115370418158707249539"
          }
        }
      },
      "cell_type": "code",
      "source": [
        "import keras\n",
        "import keras.backend as K\n",
        "import numpy as np # linear algebra\n",
        "import pandas as pd # data processing\n",
        "import matplotlib.pyplot as plt\n",
        "from keras.models import Sequential\n",
        "from keras.layers import Dense, Activation, Conv2D, Flatten, MaxPooling2D, Dropout, AveragePooling2D, BatchNormalization\n",
        "from keras.utils import np_utils \n",
        "from keras import regularizers\n",
        "from sklearn.cross_validation import  train_test_split\n",
        "from sklearn import metrics\n",
        "import cv2\n",
        "import os\n",
        "import glob\n",
        "from keras.preprocessing.image import ImageDataGenerator,img_to_array, load_img\n",
        "from keras.backend import tf as ktf\n",
        "from time import time\n",
        "from sklearn.preprocessing import StandardScaler\n",
        "from keras.callbacks import ModelCheckpoint\n",
        "\n",
        "# https://keras.io/\n",
        "!pip install -q keras\n",
        "\n",
        "\n",
        "# https://opencv.org/\n",
        "!apt-get -qq install -y libsm6 libxext6 && pip install -q -U opencv-python\n",
        "\n",
        "\n",
        "labels =  pd.read_csv(PATH + 'Labels.csv') \n",
        "\n",
        "print(labels.columns)                                                     \n",
        "d = {'M' : 0, 'B' : 1, 'N' : 2}\n",
        "labels['diagnosis'] = labels['diagnosis'].map(d)\n",
        "\n",
        "ROOT_DIR = 'drive/Ashoka forms/output1/'\n",
        "\n",
        "# Put all images in the ROOT_DIR into the array named files\n",
        "\n",
        "files = []\n",
        "for file in glob.glob(ROOT_DIR + \"*.pgm\"):\n",
        "    files.append(file)\n",
        "\n",
        "# Create rows as many as we have at files array\n",
        "\n",
        "row = len(files) * 3\n",
        "\n",
        "width = 224\n",
        "height = 224\n",
        "num_class = 3\n",
        "channel = 3\n",
        "column = width * height * channel\n",
        "\n",
        "X = []\n",
        "y = []\n",
        "index = 0\n",
        "\n",
        "for file in files:\n",
        "    if index % 100 == 0:\n",
        "      print(index)\n",
        "    img = cv2.imread(file)\n",
        "    img = cv2.resize(img, (width, height))\n",
        "\n",
        "\n",
        "    name = file.split('/')[-1]\n",
        "    name = name.split('.')[0]\n",
        "    \n",
        "    \n",
        "    X.append(img.ravel())\n",
        "    y.append(labels[labels['Name']==name]['diagnosis'].values[0])\n",
        "    \n",
        "    \n",
        "    index += 1"
      ],
      "execution_count": 4,
      "outputs": [
        {
          "output_type": "stream",
          "text": [
            "Using TensorFlow backend.\n",
            "/usr/local/lib/python3.6/dist-packages/sklearn/cross_validation.py:41: DeprecationWarning: This module was deprecated in version 0.18 in favor of the model_selection module into which all the refactored classes and functions are moved. Also note that the interface of the new CV iterators are different from that of this module. This module will be removed in 0.20.\n",
            "  \"This module will be removed in 0.20.\", DeprecationWarning)\n"
          ],
          "name": "stderr"
        },
        {
          "output_type": "stream",
          "text": [
            "Index(['Name', 'diagnosis'], dtype='object')\n",
            "0\n",
            "100\n",
            "200\n",
            "300\n"
          ],
          "name": "stdout"
        }
      ]
    },
    {
      "metadata": {
        "id": "xXZLpM0iSbvI",
        "colab_type": "code",
        "colab": {
          "autoexec": {
            "startup": false,
            "wait_interval": 0
          },
          "base_uri": "https://localhost:8080/",
          "height": 86
        },
        "outputId": "b0d76d3c-898d-41df-dbf3-6222b214a105",
        "executionInfo": {
          "status": "ok",
          "timestamp": 1526297000407,
          "user_tz": -180,
          "elapsed": 6045,
          "user": {
            "displayName": "Tuğçe Ünlü",
            "photoUrl": "https://lh3.googleusercontent.com/a/default-user=s128",
            "userId": "115370418158707249539"
          }
        }
      },
      "cell_type": "code",
      "source": [
        "ROOT_DIR2 = 'drive/Ashoka forms/images-ia/'\n",
        "\n",
        "files = []\n",
        "for file in glob.glob(ROOT_DIR2 + \"*.pgm\"):\n",
        "    files.append(file)\n",
        "\n",
        "row = len(files) * 3\n",
        "\n",
        "width = 224\n",
        "height = 224\n",
        "num_class = 3\n",
        "channel = 3\n",
        "column = width * height * channel\n",
        "\n",
        "X2 = []\n",
        "y2 = []\n",
        "index = 0\n",
        "\n",
        "for file in files:\n",
        "    if index % 100 == 0:\n",
        "      print(index)\n",
        "    img = cv2.imread(file)\n",
        "    img = cv2.resize(img, (width, height))\n",
        "\n",
        "    name = file.split('/')[-1]\n",
        "    name = name.split('.')[0]\n",
        "    \n",
        "    X2.append(img.ravel())\n",
        "    y2.append(labels[labels['Name']+\"_ia\"==name]['diagnosis'].values[0])\n",
        "    \n",
        "    \n",
        "    index += 1\n"
      ],
      "execution_count": 5,
      "outputs": [
        {
          "output_type": "stream",
          "text": [
            "0\n",
            "100\n",
            "200\n",
            "300\n"
          ],
          "name": "stdout"
        }
      ]
    },
    {
      "metadata": {
        "id": "F6IFQhTZScAw",
        "colab_type": "code",
        "colab": {
          "autoexec": {
            "startup": false,
            "wait_interval": 0
          },
          "base_uri": "https://localhost:8080/",
          "height": 86
        },
        "outputId": "1185852f-2661-483a-8e65-b7eea8811421",
        "executionInfo": {
          "status": "ok",
          "timestamp": 1526297006571,
          "user_tz": -180,
          "elapsed": 6073,
          "user": {
            "displayName": "Tuğçe Ünlü",
            "photoUrl": "https://lh3.googleusercontent.com/a/default-user=s128",
            "userId": "115370418158707249539"
          }
        }
      },
      "cell_type": "code",
      "source": [
        "ROOT_DIR3 = 'drive/Ashoka forms/images-ie/'\n",
        "\n",
        "files = []\n",
        "for file in glob.glob(ROOT_DIR3 + \"*.pgm\"):\n",
        "    files.append(file)\n",
        "\n",
        "# Create rows as many as we have at files array\n",
        "\n",
        "row = len(files) * 3\n",
        "\n",
        "width = 224\n",
        "height = 224\n",
        "num_class = 3\n",
        "channel = 3\n",
        "column = width * height * channel\n",
        "\n",
        "X3 = []\n",
        "y3 = []\n",
        "index = 0\n",
        "\n",
        "for file in files:\n",
        "    if index % 100 == 0:\n",
        "      print(index)\n",
        "    img = cv2.imread(file)\n",
        "    img = cv2.resize(img, (width, height))\n",
        "\n",
        "    name = file.split('/')[-1]\n",
        "    name = name.split('.')[0]\n",
        "    \n",
        "    X3.append(img.ravel())\n",
        "    y3.append(labels[labels['Name']+\"_ie\"==name]['diagnosis'].values[0])\n",
        "    \n",
        "    \n",
        "    index += 1"
      ],
      "execution_count": 6,
      "outputs": [
        {
          "output_type": "stream",
          "text": [
            "0\n",
            "100\n",
            "200\n",
            "300\n"
          ],
          "name": "stdout"
        }
      ]
    },
    {
      "metadata": {
        "id": "19oeMfd2VhcO",
        "colab_type": "code",
        "colab": {
          "autoexec": {
            "startup": false,
            "wait_interval": 0
          },
          "base_uri": "https://localhost:8080/",
          "height": 52
        },
        "outputId": "034dc2ea-fac1-4d4f-ae20-a7dadd69cc06",
        "executionInfo": {
          "status": "ok",
          "timestamp": 1526297007472,
          "user_tz": -180,
          "elapsed": 805,
          "user": {
            "displayName": "Tuğçe Ünlü",
            "photoUrl": "https://lh3.googleusercontent.com/a/default-user=s128",
            "userId": "115370418158707249539"
          }
        }
      },
      "cell_type": "code",
      "source": [
        "images_all= X+X2+X3\n",
        "\n",
        "labels_all= y+y2+y3\n",
        "\n",
        "images_all = np.array(images_all)\n",
        "labels_all = np.array(labels_all)\n",
        "\n",
        "\n",
        "print(images_all.shape)\n",
        "print(labels_all.shape)\n",
        "X = images_all\n",
        "y = labels_all"
      ],
      "execution_count": 7,
      "outputs": [
        {
          "output_type": "stream",
          "text": [
            "(966, 150528)\n",
            "(966,)\n"
          ],
          "name": "stdout"
        }
      ]
    },
    {
      "metadata": {
        "id": "0TFGQBvNSYW-",
        "colab_type": "code",
        "colab": {
          "autoexec": {
            "startup": false,
            "wait_interval": 0
          },
          "base_uri": "https://localhost:8080/",
          "height": 34
        },
        "outputId": "b34a216f-01c7-412d-b83f-757ba6cbdf13",
        "executionInfo": {
          "status": "ok",
          "timestamp": 1526297008440,
          "user_tz": -180,
          "elapsed": 772,
          "user": {
            "displayName": "Tuğçe Ünlü",
            "photoUrl": "https://lh3.googleusercontent.com/a/default-user=s128",
            "userId": "115370418158707249539"
          }
        }
      },
      "cell_type": "code",
      "source": [
        "print('Main Feature Matrix', images_all.shape)\n",
        "\n",
        "trainX, testX, trainY, testY = train_test_split(X, y, test_size=0.2, random_state=35, stratify=y)  # makes a split so that the proportion of values in the sample produced will be the same as the proportion of values provided to parameter stratify"
      ],
      "execution_count": 8,
      "outputs": [
        {
          "output_type": "stream",
          "text": [
            "Main Feature Matrix (966, 150528)\n"
          ],
          "name": "stdout"
        }
      ]
    },
    {
      "metadata": {
        "id": "Ue42N3vQC57i",
        "colab_type": "code",
        "colab": {
          "autoexec": {
            "startup": false,
            "wait_interval": 0
          },
          "base_uri": "https://localhost:8080/",
          "height": 104
        },
        "outputId": "747a6491-91d0-4848-e8f4-24721ef8940b",
        "executionInfo": {
          "status": "ok",
          "timestamp": 1526297011490,
          "user_tz": -180,
          "elapsed": 2879,
          "user": {
            "displayName": "Tuğçe Ünlü",
            "photoUrl": "https://lh3.googleusercontent.com/a/default-user=s128",
            "userId": "115370418158707249539"
          }
        }
      },
      "cell_type": "code",
      "source": [
        "#Random Over Sampling: Creates balanced samples by randomly increasing the number of minority examples\n",
        "\n",
        "!pip install imblearn \n",
        "from imblearn.over_sampling import RandomOverSampler\n",
        "rus = RandomOverSampler(random_state=42)\n",
        "X_res, y_res = rus.fit_sample(trainX, trainY)"
      ],
      "execution_count": 9,
      "outputs": [
        {
          "output_type": "stream",
          "text": [
            "Requirement already satisfied: imblearn in /usr/local/lib/python3.6/dist-packages (0.0)\r\n",
            "Requirement already satisfied: imbalanced-learn in /usr/local/lib/python3.6/dist-packages (from imblearn) (0.3.3)\r\n",
            "Requirement already satisfied: scipy in /usr/local/lib/python3.6/dist-packages (from imbalanced-learn->imblearn) (0.19.1)\n",
            "Requirement already satisfied: scikit-learn in /usr/local/lib/python3.6/dist-packages (from imbalanced-learn->imblearn) (0.19.1)\n",
            "Requirement already satisfied: numpy in /usr/local/lib/python3.6/dist-packages (from imbalanced-learn->imblearn) (1.14.3)\n"
          ],
          "name": "stdout"
        }
      ]
    },
    {
      "metadata": {
        "id": "PlDi0RZzEK0o",
        "colab_type": "code",
        "colab": {
          "autoexec": {
            "startup": false,
            "wait_interval": 0
          }
        }
      },
      "cell_type": "code",
      "source": [
        "trainX = X_res\n",
        "trainY = y_res"
      ],
      "execution_count": 0,
      "outputs": []
    },
    {
      "metadata": {
        "id": "0InB0I4CrLX8",
        "colab_type": "code",
        "colab": {
          "autoexec": {
            "startup": false,
            "wait_interval": 0
          }
        }
      },
      "cell_type": "code",
      "source": [
        "trainX = trainX.reshape(trainX.shape[0], width, height, channel)\n",
        "testX = testX.reshape(testX.shape[0], width, height, channel)\n",
        "\n",
        "datagen = ImageDataGenerator(\n",
        "        rescale=1./255,\n",
        "        rotation_range=40,\n",
        "        width_shift_range=0.3,\n",
        "        shear_range=0.2,\n",
        "        zoom_range=0.2,\n",
        "        horizontal_flip= True,              \n",
        "        fill_mode='nearest')\n",
        "\n",
        "datagen.fit(trainX)\n",
        "\n",
        "testgen = ImageDataGenerator(\n",
        "        rescale=1./255)\n",
        "\n",
        "testgen.fit(testX)"
      ],
      "execution_count": 0,
      "outputs": []
    },
    {
      "metadata": {
        "id": "WwKNuyeOrRVE",
        "colab_type": "code",
        "colab": {
          "autoexec": {
            "startup": false,
            "wait_interval": 0
          }
        }
      },
      "cell_type": "code",
      "source": [
        "# Convert labels to categorical one-hot encoding\n",
        "trainY = keras.utils.to_categorical(trainY, num_classes=num_class)\n",
        "testY = keras.utils.to_categorical(testY, num_classes=num_class)\n",
        "\n",
        "datagen = datagen.flow(trainX,trainY)\n",
        "testgen = testgen.flow(testX,testY)"
      ],
      "execution_count": 0,
      "outputs": []
    },
    {
      "metadata": {
        "id": "wKUjyrlBq3IS",
        "colab_type": "code",
        "colab": {
          "autoexec": {
            "startup": false,
            "wait_interval": 0
          },
          "base_uri": "https://localhost:8080/",
          "height": 34
        },
        "outputId": "961c6aa2-58a8-4d49-851b-5af2391d1732",
        "executionInfo": {
          "status": "ok",
          "timestamp": 1526297016700,
          "user_tz": -180,
          "elapsed": 798,
          "user": {
            "displayName": "Tuğçe Ünlü",
            "photoUrl": "https://lh3.googleusercontent.com/a/default-user=s128",
            "userId": "115370418158707249539"
          }
        }
      },
      "cell_type": "code",
      "source": [
        "trainY.shape"
      ],
      "execution_count": 13,
      "outputs": [
        {
          "output_type": "execute_result",
          "data": {
            "text/plain": [
              "(1497, 3)"
            ]
          },
          "metadata": {
            "tags": []
          },
          "execution_count": 13
        }
      ]
    },
    {
      "metadata": {
        "id": "-w71rYdGEv8k",
        "colab_type": "code",
        "colab": {
          "autoexec": {
            "startup": false,
            "wait_interval": 0
          },
          "base_uri": "https://localhost:8080/",
          "height": 34
        },
        "outputId": "ab65f7e3-9e76-4305-9ff2-3bf3d26a2015",
        "executionInfo": {
          "status": "ok",
          "timestamp": 1526297017957,
          "user_tz": -180,
          "elapsed": 1080,
          "user": {
            "displayName": "Tuğçe Ünlü",
            "photoUrl": "https://lh3.googleusercontent.com/a/default-user=s128",
            "userId": "115370418158707249539"
          }
        }
      },
      "cell_type": "code",
      "source": [
        "input_shape = (width, height, channel)\n",
        "\n",
        "input_shape"
      ],
      "execution_count": 14,
      "outputs": [
        {
          "output_type": "execute_result",
          "data": {
            "text/plain": [
              "(224, 224, 3)"
            ]
          },
          "metadata": {
            "tags": []
          },
          "execution_count": 14
        }
      ]
    },
    {
      "metadata": {
        "id": "-MTF-82vqYNc",
        "colab_type": "code",
        "colab": {
          "autoexec": {
            "startup": false,
            "wait_interval": 0
          },
          "base_uri": "https://localhost:8080/",
          "height": 521
        },
        "outputId": "cf6efa96-55ce-425f-8a7d-1f24264ddffd",
        "executionInfo": {
          "status": "ok",
          "timestamp": 1526297020173,
          "user_tz": -180,
          "elapsed": 2046,
          "user": {
            "displayName": "Tuğçe Ünlü",
            "photoUrl": "https://lh3.googleusercontent.com/a/default-user=s128",
            "userId": "115370418158707249539"
          }
        }
      },
      "cell_type": "code",
      "source": [
        "#STARTING TO BUILD NEURAL NETWORK\n",
        "model = Sequential()\n",
        "model.add(Conv2D(128, kernel_size=(3, 3), padding='same',\n",
        "                 activation='relu',\n",
        "                 input_shape=input_shape))\n",
        "model.add(BatchNormalization())\n",
        "model.add(MaxPooling2D(pool_size=(2, 2)))\n",
        "model.add(Dropout(0.5))\n",
        "\n",
        "model.add(Conv2D(128, kernel_size=(3, 3), padding='same', activation='relu'))\n",
        "model.add(MaxPooling2D(pool_size=(2, 2)))\n",
        "model.add(Dropout(0.5))\n",
        "\n",
        "model.add(Flatten())\n",
        "model.add(Dense(1024, activation='relu'))\n",
        "model.add(Dropout(0.5))\n",
        "\n",
        "model.add(Dense(num_class, kernel_regularizer=regularizers.l2(0.1), activation='softmax'))\n",
        "\n",
        "model.summary()\n",
        "\n",
        "#checkpoint = ModelCheckpoint('drive/breast_cancer_dl/our_best_model_3.hdf5', monitor='val_acc', verbose=1, save_best_only=True, mode='max')\n",
        "\n",
        "model.compile(loss=keras.losses.categorical_crossentropy,\n",
        "              optimizer=keras.optimizers.Adadelta(lr=0.1),  metrics=['accuracy'])"
      ],
      "execution_count": 15,
      "outputs": [
        {
          "output_type": "stream",
          "text": [
            "_________________________________________________________________\n",
            "Layer (type)                 Output Shape              Param #   \n",
            "=================================================================\n",
            "conv2d_1 (Conv2D)            (None, 224, 224, 128)     3584      \n",
            "_________________________________________________________________\n",
            "batch_normalization_1 (Batch (None, 224, 224, 128)     512       \n",
            "_________________________________________________________________\n",
            "max_pooling2d_1 (MaxPooling2 (None, 112, 112, 128)     0         \n",
            "_________________________________________________________________\n",
            "dropout_1 (Dropout)          (None, 112, 112, 128)     0         \n",
            "_________________________________________________________________\n",
            "conv2d_2 (Conv2D)            (None, 112, 112, 128)     147584    \n",
            "_________________________________________________________________\n",
            "max_pooling2d_2 (MaxPooling2 (None, 56, 56, 128)       0         \n",
            "_________________________________________________________________\n",
            "dropout_2 (Dropout)          (None, 56, 56, 128)       0         \n",
            "_________________________________________________________________\n",
            "flatten_1 (Flatten)          (None, 401408)            0         \n",
            "_________________________________________________________________\n",
            "dense_1 (Dense)              (None, 1024)              411042816 \n",
            "_________________________________________________________________\n",
            "dropout_3 (Dropout)          (None, 1024)              0         \n",
            "_________________________________________________________________\n",
            "dense_2 (Dense)              (None, 3)                 3075      \n",
            "=================================================================\n",
            "Total params: 411,197,571\n",
            "Trainable params: 411,197,315\n",
            "Non-trainable params: 256\n",
            "_________________________________________________________________\n"
          ],
          "name": "stdout"
        }
      ]
    },
    {
      "metadata": {
        "id": "0IN8wK6uAci0",
        "colab_type": "code",
        "colab": {
          "autoexec": {
            "startup": false,
            "wait_interval": 0
          },
          "base_uri": "https://localhost:8080/",
          "height": 54
        },
        "outputId": "2f40ad6f-0e89-4ed6-bbad-061730d73c02",
        "executionInfo": {
          "status": "ok",
          "timestamp": 1526297029807,
          "user_tz": -180,
          "elapsed": 9430,
          "user": {
            "displayName": "Tuğçe Ünlü",
            "photoUrl": "https://lh3.googleusercontent.com/a/default-user=s128",
            "userId": "115370418158707249539"
          }
        }
      },
      "cell_type": "code",
      "source": [
        "imsize=224\n",
        "inputshape=(imsize,imsize,3)\n",
        "inputshape\n",
        "\n",
        "modelweight='imagenet'\n",
        "from keras import applications\n",
        "from keras.models import Model\n",
        "from keras import optimizers\n",
        "\n",
        "#TRANSFER LEARNING: is the method of using a pretrained repository, which is ImageNet here\n",
        "\n",
        "model_transfer= applications.resnet50.ResNet50(weights=modelweight, include_top=False, input_shape=inputshape)\n",
        "#model_transfer.summary()\n",
        "\n",
        "for layer in model_transfer.layers:\n",
        "  layer.trainable = False\n",
        "  \n",
        "x = model_transfer.output\n",
        "x = Flatten()(x)\n",
        "x = Dense(1024, activation=\"relu\")(x)\n",
        "x = Dropout(0.5)(x)\n",
        "x = Dense(1024, activation=\"relu\")(x)\n",
        "predictions = Dense(3, activation=\"softmax\")(x)\n",
        "\n",
        "model_final = Model(input = model_transfer.input, output = predictions)\n",
        "\n",
        "\n",
        "model_final.compile(loss=keras.losses.categorical_crossentropy,\n",
        "              optimizer=keras.optimizers.Adadelta(lr=0.01), metrics=['accuracy'])\n",
        "\n"
      ],
      "execution_count": 16,
      "outputs": [
        {
          "output_type": "stream",
          "text": [
            "/usr/local/lib/python3.6/dist-packages/ipykernel_launcher.py:25: UserWarning: Update your `Model` call to the Keras 2 API: `Model(inputs=Tensor(\"in..., outputs=Tensor(\"de...)`\n"
          ],
          "name": "stderr"
        }
      ]
    },
    {
      "metadata": {
        "id": "DEmkQSu5CW_G",
        "colab_type": "code",
        "colab": {
          "autoexec": {
            "startup": false,
            "wait_interval": 0
          },
          "base_uri": "https://localhost:8080/",
          "height": 627
        },
        "outputId": "9b6fdcc4-f480-47d5-9578-b465e67c328a"
      },
      "cell_type": "code",
      "source": [
        "history= model_final.fit_generator(datagen, steps_per_epoch=1497, epochs=200, validation_data=testgen)  \n",
        "# The number of steps_per_epoch equals to trainY.shape to enable that the kernel can process all pixels in each one epoch"
      ],
      "execution_count": 0,
      "outputs": [
        {
          "output_type": "stream",
          "text": [
            "Epoch 1/200\n",
            "1496/1497 [============================>.] - ETA: 0s - loss: 1.0635 - acc: 0.4339"
          ],
          "name": "stdout"
        },
        {
          "output_type": "stream",
          "text": [
            "\b\b\b\b\b\b\b\b\b\b\b\b\b\b\b\b\b\b\b\b\b\b\b\b\b\b\b\b\b\b\b\b\b\b\b\b\b\b\b\b\b\b\b\b\b\b\b\b\b\b\b\b\b\b\b\b\b\b\b\b\b\b\b\b\b\b\b\b\b\b\b\b\b\b\b\b\b\b\b\b\b\r1497/1497 [==============================] - 717s 479ms/step - loss: 1.0635 - acc: 0.4339 - val_loss: 1.0079 - val_acc: 0.6443\n",
            "Epoch 2/200\n",
            " 326/1497 [=====>........................] - ETA: 9:13 - loss: 0.9858 - acc: 0.5132"
          ],
          "name": "stdout"
        },
        {
          "output_type": "stream",
          "text": [
            "1497/1497 [==============================] - 712s 476ms/step - loss: 0.9551 - acc: 0.5371 - val_loss: 1.0538 - val_acc: 0.6443\n",
            "Epoch 3/200\n",
            "  12/1497 [..............................] - ETA: 8:47 - loss: 0.9061 - acc: 0.5775"
          ],
          "name": "stdout"
        },
        {
          "output_type": "stream",
          "text": [
            "1496/1497 [============================>.] - ETA: 0s - loss: 0.8916 - acc: 0.5850"
          ],
          "name": "stdout"
        },
        {
          "output_type": "stream",
          "text": [
            "\b\b\b\b\b\b\b\b\b\b\b\b\b\b\b\b\b\b\b\b\b\b\b\b\b\b\b\b\b\b\b\b\b\b\b\b\b\b\b\b\b\b\b\b\b\b\b\b\b\b\b\b\b\b\b\b\b\b\b\b\b\b\b\b\b\b\b\b\b\b\b\b\b\b\b\b\b\b\b\b\b\r1497/1497 [==============================] - 704s 470ms/step - loss: 0.8917 - acc: 0.5849 - val_loss: 1.0385 - val_acc: 0.6443\n",
            "Epoch 4/200\n",
            " 326/1497 [=====>........................] - ETA: 9:03 - loss: 0.8626 - acc: 0.6044"
          ],
          "name": "stdout"
        },
        {
          "output_type": "stream",
          "text": [
            "1497/1497 [==============================] - 702s 469ms/step - loss: 0.8444 - acc: 0.6153 - val_loss: 1.0593 - val_acc: 0.6443\n",
            "Epoch 5/200\n",
            "  12/1497 [..............................] - ETA: 8:49 - loss: 0.8167 - acc: 0.6667"
          ],
          "name": "stdout"
        },
        {
          "output_type": "stream",
          "text": [
            "1496/1497 [============================>.] - ETA: 0s - loss: 0.8002 - acc: 0.6411"
          ],
          "name": "stdout"
        },
        {
          "output_type": "stream",
          "text": [
            "\b\b\b\b\b\b\b\b\b\b\b\b\b\b\b\b\b\b\b\b\b\b\b\b\b\b\b\b\b\b\b\b\b\b\b\b\b\b\b\b\b\b\b\b\b\b\b\b\b\b\b\b\b\b\b\b\b\b\b\b\b\b\b\b\b\b\b\b\b\b\b\b\b\b\b\b\b\b\b\b\b\r1497/1497 [==============================] - 704s 470ms/step - loss: 0.8002 - acc: 0.6411 - val_loss: 1.0335 - val_acc: 0.6443\n",
            "Epoch 6/200\n",
            " 326/1497 [=====>........................] - ETA: 9:04 - loss: 0.7789 - acc: 0.6458"
          ],
          "name": "stdout"
        },
        {
          "output_type": "stream",
          "text": [
            "1497/1497 [==============================] - 703s 470ms/step - loss: 0.7634 - acc: 0.6598 - val_loss: 1.0453 - val_acc: 0.6443\n",
            "Epoch 7/200\n",
            "  12/1497 [..............................] - ETA: 8:20 - loss: 0.7485 - acc: 0.6536"
          ],
          "name": "stdout"
        },
        {
          "output_type": "stream",
          "text": [
            "1496/1497 [============================>.] - ETA: 0s - loss: 0.7272 - acc: 0.6813"
          ],
          "name": "stdout"
        },
        {
          "output_type": "stream",
          "text": [
            "\b\b\b\b\b\b\b\b\b\b\b\b\b\b\b\b\b\b\b\b\b\b\b\b\b\b\b\b\b\b\b\b\b\b\b\b\b\b\b\b\b\b\b\b\b\b\b\b\b\b\b\b\b\b\b\b\b\b\b\b\b\b\b\b\b\b\b\b\b\b\b\b\b\b\b\b\b\b\b\b\b\r1497/1497 [==============================] - 702s 469ms/step - loss: 0.7271 - acc: 0.6813 - val_loss: 1.0856 - val_acc: 0.6443\n",
            "Epoch 8/200\n",
            " 326/1497 [=====>........................] - ETA: 8:59 - loss: 0.7076 - acc: 0.6914"
          ],
          "name": "stdout"
        },
        {
          "output_type": "stream",
          "text": [
            "1497/1497 [==============================] - 707s 473ms/step - loss: 0.6960 - acc: 0.6948 - val_loss: 1.1249 - val_acc: 0.6443\n",
            "Epoch 9/200\n",
            "  12/1497 [..............................] - ETA: 8:44 - loss: 0.7101 - acc: 0.6914"
          ],
          "name": "stdout"
        },
        {
          "output_type": "stream",
          "text": [
            "1496/1497 [============================>.] - ETA: 0s - loss: 0.6689 - acc: 0.7121"
          ],
          "name": "stdout"
        },
        {
          "output_type": "stream",
          "text": [
            "\b\b\b\b\b\b\b\b\b\b\b\b\b\b\b\b\b\b\b\b\b\b\b\b\b\b\b\b\b\b\b\b\b\b\b\b\b\b\b\b\b\b\b\b\b\b\b\b\b\b\b\b\b\b\b\b\b\b\b\b\b\b\b\b\b\b\b\b\b\b\b\b\b\b\b\b\b\b\b\b\b\r1497/1497 [==============================] - 711s 475ms/step - loss: 0.6689 - acc: 0.7121 - val_loss: 1.2103 - val_acc: 0.6443\n",
            "Epoch 10/200\n",
            " 325/1497 [=====>........................] - ETA: 9:15 - loss: 0.6599 - acc: 0.7137"
          ],
          "name": "stdout"
        },
        {
          "output_type": "stream",
          "text": [
            "1497/1497 [==============================] - 714s 477ms/step - loss: 0.6452 - acc: 0.7256 - val_loss: 1.3092 - val_acc: 0.6443\n",
            "Epoch 11/200\n",
            "  11/1497 [..............................] - ETA: 8:42 - loss: 0.6481 - acc: 0.7301"
          ],
          "name": "stdout"
        },
        {
          "output_type": "stream",
          "text": [
            "1496/1497 [============================>.] - ETA: 0s - loss: 0.6146 - acc: 0.7398"
          ],
          "name": "stdout"
        },
        {
          "output_type": "stream",
          "text": [
            "\b\b\b\b\b\b\b\b\b\b\b\b\b\b\b\b\b\b\b\b\b\b\b\b\b\b\b\b\b\b\b\b\b\b\b\b\b\b\b\b\b\b\b\b\b\b\b\b\b\b\b\b\b\b\b\b\b\b\b\b\b\b\b\b\b\b\b\b\b\b\b\b\b\b\b\b\b\b\b\b\b\r1497/1497 [==============================] - 711s 475ms/step - loss: 0.6145 - acc: 0.7398 - val_loss: 1.3598 - val_acc: 0.6443\n",
            "Epoch 12/200\n",
            " 325/1497 [=====>........................] - ETA: 9:14 - loss: 0.5979 - acc: 0.7495"
          ],
          "name": "stdout"
        },
        {
          "output_type": "stream",
          "text": [
            "1497/1497 [==============================] - 721s 482ms/step - loss: 0.5913 - acc: 0.7541 - val_loss: 1.4368 - val_acc: 0.6443\n",
            "Epoch 13/200\n",
            "  11/1497 [..............................] - ETA: 9:03 - loss: 0.6544 - acc: 0.7443"
          ],
          "name": "stdout"
        },
        {
          "output_type": "stream",
          "text": [
            "1496/1497 [============================>.] - ETA: 0s - loss: 0.5792 - acc: 0.7577"
          ],
          "name": "stdout"
        },
        {
          "output_type": "stream",
          "text": [
            "\b\b\b\b\b\b\b\b\b\b\b\b\b\b\b\b\b\b\b\b\b\b\b\b\b\b\b\b\b\b\b\b\b\b\b\b\b\b\b\b\b\b\b\b\b\b\b\b\b\b\b\b\b\b\b\b\b\b\b\b\b\b\b\b\b\b\b\b\b\b\b\b\b\b\b\b\b\b\b\b\b\r1497/1497 [==============================] - 723s 483ms/step - loss: 0.5793 - acc: 0.7576 - val_loss: 1.6198 - val_acc: 0.6443\n",
            "Epoch 14/200\n",
            " 325/1497 [=====>........................] - ETA: 9:10 - loss: 0.5599 - acc: 0.7686"
          ],
          "name": "stdout"
        },
        {
          "output_type": "stream",
          "text": [
            "1497/1497 [==============================] - 711s 475ms/step - loss: 0.5530 - acc: 0.7705 - val_loss: 1.7070 - val_acc: 0.6443\n",
            "Epoch 15/200\n",
            "  11/1497 [..............................] - ETA: 9:53 - loss: 0.5953 - acc: 0.7500"
          ],
          "name": "stdout"
        },
        {
          "output_type": "stream",
          "text": [
            "1496/1497 [============================>.] - ETA: 0s - loss: 0.5384 - acc: 0.7790"
          ],
          "name": "stdout"
        },
        {
          "output_type": "stream",
          "text": [
            "\b\b\b\b\b\b\b\b\b\b\b\b\b\b\b\b\b\b\b\b\b\b\b\b\b\b\b\b\b\b\b\b\b\b\b\b\b\b\b\b\b\b\b\b\b\b\b\b\b\b\b\b\b\b\b\b\b\b\b\b\b\b\b\b\b\b\b\b\b\b\b\b\b\b\b\b\b\b\b\b\b\r1497/1497 [==============================] - 705s 471ms/step - loss: 0.5383 - acc: 0.7791 - val_loss: 1.9327 - val_acc: 0.6443\n",
            "Epoch 16/200\n",
            " 325/1497 [=====>........................] - ETA: 9:09 - loss: 0.5295 - acc: 0.7782"
          ],
          "name": "stdout"
        },
        {
          "output_type": "stream",
          "text": [
            "1497/1497 [==============================] - 708s 473ms/step - loss: 0.5244 - acc: 0.7838 - val_loss: 1.9774 - val_acc: 0.6443\n",
            "Epoch 17/200\n",
            "  11/1497 [..............................] - ETA: 8:21 - loss: 0.4768 - acc: 0.8418"
          ],
          "name": "stdout"
        },
        {
          "output_type": "stream",
          "text": [
            " 858/1497 [================>.............] - ETA: 5:04 - loss: 0.4973 - acc: 0.7947"
          ],
          "name": "stdout"
        }
      ]
    },
    {
      "metadata": {
        "id": "DV9cStKFBWFh",
        "colab_type": "code",
        "colab": {
          "autoexec": {
            "startup": false,
            "wait_interval": 0
          },
          "base_uri": "https://localhost:8080/",
          "height": 34
        },
        "outputId": "cbec7cd0-b0f1-41a1-93c8-ba0b578328b8",
        "executionInfo": {
          "status": "ok",
          "timestamp": 1526045330585,
          "user_tz": -180,
          "elapsed": 3616,
          "user": {
            "displayName": "Tuğçe Ünlü",
            "photoUrl": "https://lh3.googleusercontent.com/a/default-user=s128",
            "userId": "115370418158707249539"
          }
        }
      },
      "cell_type": "code",
      "source": [
        "#model.load_weights('drive/breast_cancer_dl/our_best_model_3.hdf5')\n",
        "print(model.evaluate_generator(testgen))    #Test accuracy is low here hence we run 5 epochs before delivery to prove the generator works. 200 epochs' process takes a night. When we increase the number of epochs test accuracy directly increases to roundly 65%.\n",
        "#model.save('drive/breast_cancer_dl/our_best_model_3.hdf5')"
      ],
      "execution_count": 56,
      "outputs": [
        {
          "output_type": "stream",
          "text": [
            "[1.7115210331592363, 0.30412371134020616]\n"
          ],
          "name": "stdout"
        }
      ]
    },
    {
      "metadata": {
        "id": "ymxrRMDigrjJ",
        "colab_type": "code",
        "colab": {
          "autoexec": {
            "startup": false,
            "wait_interval": 0
          }
        }
      },
      "cell_type": "code",
      "source": [
        "history.history.keys()\n",
        "train_loss = history.history['loss']\n",
        "train_acc = history.history['acc']\n",
        "val_loss = history.history['val_loss'] \n",
        "val_acc = history.history['val_acc']\n",
        "\n",
        "loss_dict = {'train_loss': train_loss, 'val_loss': val_loss}\n",
        "acc_dict = {'train_acc': train_acc, 'val_acc': val_acc}"
      ],
      "execution_count": 0,
      "outputs": []
    },
    {
      "metadata": {
        "id": "_1TNUjTZZZJv",
        "colab_type": "code",
        "colab": {
          "autoexec": {
            "startup": false,
            "wait_interval": 0
          }
        }
      },
      "cell_type": "code",
      "source": [
        "\n",
        "%matplotlib inline\n",
        "loss_df = pd.DataFrame(loss_dict)\n",
        "acc_df = pd.DataFrame(acc_dict)"
      ],
      "execution_count": 0,
      "outputs": []
    },
    {
      "metadata": {
        "id": "ZW-VXF9_hnrK",
        "colab_type": "code",
        "colab": {
          "autoexec": {
            "startup": false,
            "wait_interval": 0
          },
          "base_uri": "https://localhost:8080/",
          "height": 530
        },
        "outputId": "3962946f-88c3-4cb5-be6e-d235497f5754",
        "executionInfo": {
          "status": "ok",
          "timestamp": 1526045333642,
          "user_tz": -180,
          "elapsed": 1256,
          "user": {
            "displayName": "Tuğçe Ünlü",
            "photoUrl": "https://lh3.googleusercontent.com/a/default-user=s128",
            "userId": "115370418158707249539"
          }
        }
      },
      "cell_type": "code",
      "source": [
        "loss_df.plot()\n",
        "acc_df.plot()"
      ],
      "execution_count": 59,
      "outputs": [
        {
          "output_type": "execute_result",
          "data": {
            "text/plain": [
              "<matplotlib.axes._subplots.AxesSubplot at 0x7fc478f0af98>"
            ]
          },
          "metadata": {
            "tags": []
          },
          "execution_count": 59
        },
        {
          "output_type": "display_data",
          "data": {
            "image/png": "[encoded data removed]",
            "text/plain": [
              "<matplotlib.figure.Figure at 0x7fc59e1c1588>"
            ]
          },
          "metadata": {
            "tags": []
          }
        },
        {
          "output_type": "display_data",
          "data": {
            "image/png": "[encoded data removed]",
            "text/plain": [
              "<matplotlib.figure.Figure at 0x7fc478ce60b8>"
            ]
          },
          "metadata": {
            "tags": []
          }
        }
      ]
    },
    {
      "metadata": {
        "id": "2cKPwYYkhuOa",
        "colab_type": "code",
        "colab": {
          "autoexec": {
            "startup": false,
            "wait_interval": 0
          }
        }
      },
      "cell_type": "code",
      "source": [
        "from sklearn.metrics import classification_report,confusion_matrix"
      ],
      "execution_count": 0,
      "outputs": []
    },
    {
      "metadata": {
        "id": "nN0JKDCOrq2u",
        "colab_type": "code",
        "colab": {
          "autoexec": {
            "startup": false,
            "wait_interval": 0
          },
          "base_uri": "https://localhost:8080/",
          "height": 3508
        },
        "outputId": "43914d27-0fca-4438-cceb-d99dc61d4f30",
        "executionInfo": {
          "status": "ok",
          "timestamp": 1526045338106,
          "user_tz": -180,
          "elapsed": 2955,
          "user": {
            "displayName": "Tuğçe Ünlü",
            "photoUrl": "https://lh3.googleusercontent.com/a/default-user=s128",
            "userId": "115370418158707249539"
          }
        }
      },
      "cell_type": "code",
      "source": [
        "Y_pred_prob = model.predict_generator(testgen)\n",
        "print(Y_pred_prob)\n",
        "Y_pred = np.argmax(Y_pred_prob,axis=1)\n",
        "print(Y_pred)\n",
        "print(len(Y_pred))"
      ],
      "execution_count": 61,
      "outputs": [
        {
          "output_type": "stream",
          "text": [
            "[[0.34151146 0.3355489  0.32293966]\n",
            " [0.33799222 0.32996964 0.33203816]\n",
            " [0.33664662 0.34153572 0.32181764]\n",
            " [0.34057966 0.3414034  0.3180169 ]\n",
            " [0.31875274 0.3408624  0.3403849 ]\n",
            " [0.32932746 0.3504192  0.32025334]\n",
            " [0.33852497 0.33420423 0.32727084]\n",
            " [0.3331588  0.34132797 0.32551327]\n",
            " [0.32585323 0.33797884 0.33616793]\n",
            " [0.3359683  0.33309597 0.33093572]\n",
            " [0.3238427  0.3478384  0.32831892]\n",
            " [0.32132295 0.33453473 0.34414232]\n",
            " [0.3241872  0.34210005 0.33371282]\n",
            " [0.32099092 0.3363131  0.34269595]\n",
            " [0.33699164 0.33712038 0.325888  ]\n",
            " [0.32412097 0.33612072 0.33975837]\n",
            " [0.3250842  0.34703496 0.32788086]\n",
            " [0.3364187  0.33532122 0.32826015]\n",
            " [0.33951384 0.3356097  0.32487646]\n",
            " [0.32171664 0.3504958  0.32778758]\n",
            " [0.31489858 0.3419134  0.34318808]\n",
            " [0.32477978 0.33573192 0.33948833]\n",
            " [0.33326218 0.33591276 0.33082503]\n",
            " [0.31653243 0.34678978 0.3366778 ]\n",
            " [0.3118832  0.3422499  0.34586686]\n",
            " [0.33707777 0.3336367  0.3292855 ]\n",
            " [0.3195352  0.3419159  0.33854893]\n",
            " [0.32798114 0.34016526 0.3318536 ]\n",
            " [0.32493934 0.34534803 0.32971263]\n",
            " [0.33415794 0.33990532 0.32593668]\n",
            " [0.32107762 0.33619943 0.34272295]\n",
            " [0.3330345  0.33869207 0.32827342]\n",
            " [0.31977218 0.34109846 0.3391294 ]\n",
            " [0.32572713 0.3365726  0.3377003 ]\n",
            " [0.33646214 0.33487362 0.32866418]\n",
            " [0.31320977 0.3412694  0.34552085]\n",
            " [0.3299908  0.33790588 0.3321033 ]\n",
            " [0.33127266 0.3386615  0.33006585]\n",
            " [0.33175802 0.3422276  0.3260143 ]\n",
            " [0.3137594  0.34172603 0.3445146 ]\n",
            " [0.31558004 0.34261847 0.34180152]\n",
            " [0.31206957 0.34421626 0.34371418]\n",
            " [0.33268827 0.34109375 0.32621798]\n",
            " [0.33038926 0.3422436  0.32736713]\n",
            " [0.32586566 0.3419273  0.332207  ]\n",
            " [0.3312827  0.34134164 0.32737565]\n",
            " [0.31666216 0.34306943 0.34026843]\n",
            " [0.3330073  0.33993387 0.32705882]\n",
            " [0.33663124 0.33724123 0.32612753]\n",
            " [0.3375217  0.3339832  0.32849512]\n",
            " [0.3211846  0.34032807 0.33848736]\n",
            " [0.33699667 0.33779773 0.3252056 ]\n",
            " [0.33482668 0.34633502 0.31883833]\n",
            " [0.31136274 0.34396482 0.3446724 ]\n",
            " [0.3361873  0.33757478 0.32623786]\n",
            " [0.32546058 0.3401206  0.3344189 ]\n",
            " [0.33378896 0.34787434 0.31833673]\n",
            " [0.3374702  0.3347929  0.32773685]\n",
            " [0.31201687 0.34229225 0.34569082]\n",
            " [0.3404518  0.33190957 0.32763863]\n",
            " [0.32414138 0.34348175 0.3323769 ]\n",
            " [0.31521654 0.3401047  0.34467876]\n",
            " [0.32582653 0.34556335 0.32861012]\n",
            " [0.3204895  0.34141818 0.3380923 ]\n",
            " [0.31707072 0.34796152 0.33496773]\n",
            " [0.33696127 0.34038785 0.32265094]\n",
            " [0.32756534 0.34656754 0.32586715]\n",
            " [0.31398913 0.35046944 0.3355414 ]\n",
            " [0.33476844 0.33703688 0.32819465]\n",
            " [0.32861716 0.34747893 0.32390398]\n",
            " [0.34101957 0.34167933 0.3173011 ]\n",
            " [0.31824723 0.34069    0.3410628 ]\n",
            " [0.3297279  0.341487   0.32878515]\n",
            " [0.3332887  0.33990797 0.3268033 ]\n",
            " [0.3249004  0.34169322 0.33340636]\n",
            " [0.31358013 0.34039357 0.3460263 ]\n",
            " [0.32772934 0.34074932 0.33152136]\n",
            " [0.33389285 0.33906248 0.3270447 ]\n",
            " [0.32576144 0.3415501  0.33268842]\n",
            " [0.32496896 0.3450798  0.32995123]\n",
            " [0.3383294  0.34263632 0.31903425]\n",
            " [0.31307727 0.3395704  0.34735233]\n",
            " [0.3113978  0.3420447  0.34655753]\n",
            " [0.3388664  0.335919   0.32521465]\n",
            " [0.32037103 0.34558496 0.33404395]\n",
            " [0.3143744  0.34901574 0.33660984]\n",
            " [0.33832973 0.3343438  0.32732648]\n",
            " [0.31473422 0.34017396 0.34509182]\n",
            " [0.3190201  0.34329286 0.33768705]\n",
            " [0.32028255 0.34405056 0.3356669 ]\n",
            " [0.33259273 0.3392397  0.3281676 ]\n",
            " [0.33094126 0.33054805 0.3385107 ]\n",
            " [0.33420828 0.33627635 0.32951534]\n",
            " [0.31873083 0.33989438 0.34137475]\n",
            " [0.32625628 0.33979452 0.3339492 ]\n",
            " [0.318696   0.33761922 0.34368476]\n",
            " [0.32844168 0.33629972 0.33525854]\n",
            " [0.31446767 0.3458734  0.33965892]\n",
            " [0.324285   0.32842132 0.3472937 ]\n",
            " [0.32351515 0.34221023 0.33427462]\n",
            " [0.32001346 0.34178686 0.3381997 ]\n",
            " [0.33740556 0.33738178 0.32521263]\n",
            " [0.326428   0.35215786 0.32141414]\n",
            " [0.31980047 0.33605158 0.34414795]\n",
            " [0.32908696 0.34768665 0.3232264 ]\n",
            " [0.3252945  0.3490961  0.3256094 ]\n",
            " [0.3242205  0.34561163 0.33016786]\n",
            " [0.32837987 0.35216948 0.31945065]\n",
            " [0.33135727 0.33654776 0.332095  ]\n",
            " [0.30857977 0.345447   0.34597325]\n",
            " [0.32700512 0.3443603  0.32863456]\n",
            " [0.32279426 0.34348407 0.3337216 ]\n",
            " [0.31155348 0.3438209  0.34462562]\n",
            " [0.322137   0.33732104 0.340542  ]\n",
            " [0.31544405 0.35044205 0.33411387]\n",
            " [0.31401208 0.3476611  0.33832684]\n",
            " [0.33467138 0.33570838 0.32962024]\n",
            " [0.33467448 0.33449176 0.3308337 ]\n",
            " [0.31511945 0.3381161  0.3467644 ]\n",
            " [0.32242578 0.3394588  0.3381154 ]\n",
            " [0.33080548 0.3325344  0.3366601 ]\n",
            " [0.33822408 0.32976854 0.33200738]\n",
            " [0.32844353 0.3440017  0.32755476]\n",
            " [0.3188627  0.34435856 0.33677876]\n",
            " [0.30934766 0.34243184 0.34822047]\n",
            " [0.31562084 0.3400885  0.34429067]\n",
            " [0.3320588  0.33984843 0.32809284]\n",
            " [0.3150682  0.34043238 0.34449944]\n",
            " [0.33437926 0.33535972 0.33026105]\n",
            " [0.3332141  0.34258923 0.32419667]\n",
            " [0.32340518 0.3359616  0.34063327]\n",
            " [0.31521183 0.3447579  0.3400303 ]\n",
            " [0.33045253 0.33764267 0.33190474]\n",
            " [0.32963052 0.34679946 0.32357004]\n",
            " [0.3414594  0.33251527 0.32602534]\n",
            " [0.32877368 0.34273618 0.32849014]\n",
            " [0.33626544 0.33603707 0.32769755]\n",
            " [0.3173404  0.3439068  0.33875284]\n",
            " [0.33213285 0.3430349  0.32483232]\n",
            " [0.3259648  0.33469686 0.33933833]\n",
            " [0.33050373 0.34605977 0.32343653]\n",
            " [0.32778734 0.34548017 0.3267325 ]\n",
            " [0.33459097 0.33805573 0.32735327]\n",
            " [0.31542277 0.34668857 0.33788863]\n",
            " [0.33875272 0.3353452  0.32590204]\n",
            " [0.33305013 0.34562758 0.32132226]\n",
            " [0.31332374 0.3487666  0.3379097 ]\n",
            " [0.325634   0.33817405 0.33619195]\n",
            " [0.32764167 0.34325033 0.329108  ]\n",
            " [0.34470737 0.33018768 0.32510495]\n",
            " [0.32659802 0.33951387 0.3338881 ]\n",
            " [0.32363147 0.33467773 0.34169078]\n",
            " [0.31884345 0.34171093 0.3394456 ]\n",
            " [0.31506044 0.34741244 0.33752716]\n",
            " [0.31069943 0.3532964  0.33600417]\n",
            " [0.33282793 0.33988148 0.32729053]\n",
            " [0.3321484  0.33797753 0.32987404]\n",
            " [0.32234254 0.33574927 0.34190822]\n",
            " [0.3332856  0.34130472 0.32540962]\n",
            " [0.33230773 0.34604105 0.32165122]\n",
            " [0.31880343 0.33926654 0.34193   ]\n",
            " [0.3329281  0.3391311  0.3279408 ]\n",
            " [0.31608042 0.34111133 0.34280828]\n",
            " [0.3290555  0.34220994 0.3287346 ]\n",
            " [0.31903976 0.34573892 0.33522126]\n",
            " [0.330771   0.34391388 0.32531512]\n",
            " [0.3160132  0.35099685 0.33298993]\n",
            " [0.32287592 0.34038058 0.33674347]\n",
            " [0.33055577 0.3433689  0.32607535]\n",
            " [0.3371553  0.3399785  0.32286614]\n",
            " [0.33108604 0.34396076 0.3249532 ]\n",
            " [0.3287729  0.3428593  0.3283678 ]\n",
            " [0.33256912 0.34267002 0.32476085]\n",
            " [0.31485137 0.3427442  0.34240443]\n",
            " [0.32434246 0.33961657 0.33604097]\n",
            " [0.3379026  0.3387481  0.3233493 ]\n",
            " [0.31536314 0.3454141  0.33922276]\n",
            " [0.3322071  0.34325475 0.3245381 ]\n",
            " [0.31534645 0.34043443 0.3442191 ]\n",
            " [0.31583396 0.34013265 0.34403336]\n",
            " [0.31687504 0.348952   0.33417296]\n",
            " [0.31595224 0.34123075 0.34281698]\n",
            " [0.33075383 0.34103632 0.32820982]\n",
            " [0.32926562 0.3342741  0.33646026]\n",
            " [0.3108728  0.34282535 0.34630188]\n",
            " [0.32268685 0.34622392 0.33108923]\n",
            " [0.33264285 0.33820534 0.3291518 ]\n",
            " [0.33551204 0.33707768 0.32741025]\n",
            " [0.32898816 0.3425936  0.32841828]\n",
            " [0.32552072 0.33989063 0.33458865]\n",
            " [0.31765607 0.3426632  0.33968073]\n",
            " [0.32256615 0.35037148 0.3270623 ]\n",
            " [0.3237178  0.32763392 0.3486483 ]\n",
            " [0.32918373 0.33215016 0.33866617]]\n",
            "[0 0 1 1 1 1 0 1 1 0 1 2 1 2 1 2 1 0 0 1 2 2 1 1 2 0 1 1 1 1 2 1 1 2 0 2 1\n",
            " 1 1 2 1 1 1 1 1 1 1 1 1 0 1 1 1 2 1 1 1 0 2 0 1 2 1 1 1 1 1 1 1 1 1 2 1 1\n",
            " 1 2 1 1 1 1 1 2 2 0 1 1 0 2 1 1 1 2 1 2 1 2 1 1 2 1 1 0 1 2 1 1 1 1 1 2 1\n",
            " 1 2 2 1 1 1 0 2 1 2 0 1 1 2 2 1 2 1 1 2 1 1 1 0 1 0 1 1 2 1 1 1 1 0 1 1 1\n",
            " 1 0 1 2 1 1 1 1 1 2 1 1 2 1 2 1 1 1 1 1 1 1 1 1 1 1 1 1 1 1 2 2 1 2 1 2 2\n",
            " 1 1 1 1 1 1 1 2 2]\n",
            "194\n"
          ],
          "name": "stdout"
        }
      ]
    },
    {
      "metadata": {
        "id": "UQnBALAdsKKK",
        "colab_type": "code",
        "colab": {
          "autoexec": {
            "startup": false,
            "wait_interval": 0
          },
          "base_uri": "https://localhost:8080/",
          "height": 139
        },
        "outputId": "59606b51-fb87-467f-c604-aedb974bf531",
        "executionInfo": {
          "status": "ok",
          "timestamp": 1526045338940,
          "user_tz": -180,
          "elapsed": 748,
          "user": {
            "displayName": "Tuğçe Ünlü",
            "photoUrl": "https://lh3.googleusercontent.com/a/default-user=s128",
            "userId": "115370418158707249539"
          }
        }
      },
      "cell_type": "code",
      "source": [
        "target_names = ['class 0(MALIGN)', 'class 1(BENIGN)', 'class 2(NORMAL)']\n",
        "Y_true= np.argmax(testY,axis=1)\n",
        "print(Y_true)\n",
        "print(len(Y_true))"
      ],
      "execution_count": 62,
      "outputs": [
        {
          "output_type": "stream",
          "text": [
            "[2 1 2 2 2 0 1 1 2 2 2 2 2 2 2 0 2 2 1 1 0 1 2 2 2 1 1 1 1 1 2 2 2 1 2 2 0\n",
            " 2 0 2 1 2 2 0 2 2 2 2 0 2 0 2 2 2 2 2 2 1 2 1 2 1 2 2 2 2 2 2 2 2 0 2 2 0\n",
            " 2 2 2 0 2 0 1 2 1 1 2 0 2 2 2 2 2 1 2 1 2 2 2 2 0 2 2 1 2 2 0 2 2 2 2 2 2\n",
            " 2 2 1 2 0 1 0 1 2 2 2 2 2 1 2 2 2 2 2 1 2 2 2 0 2 2 2 1 1 2 2 0 1 2 2 2 2\n",
            " 2 2 2 2 2 0 1 2 2 2 2 1 1 1 2 2 0 2 2 0 2 0 1 0 0 0 0 2 1 2 2 2 0 1 2 2 2\n",
            " 2 2 0 0 1 2 2 2 0]\n",
            "194\n"
          ],
          "name": "stdout"
        }
      ]
    },
    {
      "metadata": {
        "id": "1KHjtffIuhpo",
        "colab_type": "code",
        "colab": {
          "autoexec": {
            "startup": false,
            "wait_interval": 0
          },
          "base_uri": "https://localhost:8080/",
          "height": 69
        },
        "outputId": "e848fa1b-d7c3-4780-fa79-73381e643f24",
        "executionInfo": {
          "status": "ok",
          "timestamp": 1526045339775,
          "user_tz": -180,
          "elapsed": 758,
          "user": {
            "displayName": "Tuğçe Ünlü",
            "photoUrl": "https://lh3.googleusercontent.com/a/default-user=s128",
            "userId": "115370418158707249539"
          }
        }
      },
      "cell_type": "code",
      "source": [
        "print(confusion_matrix(Y_true, Y_pred))"
      ],
      "execution_count": 63,
      "outputs": [
        {
          "output_type": "stream",
          "text": [
            "[[ 2 25  4]\n",
            " [ 8 17 13]\n",
            " [10 88 27]]\n"
          ],
          "name": "stdout"
        }
      ]
    },
    {
      "metadata": {
        "id": "ckN75z2euime",
        "colab_type": "code",
        "colab": {
          "autoexec": {
            "startup": false,
            "wait_interval": 0
          },
          "base_uri": "https://localhost:8080/",
          "height": 156
        },
        "outputId": "0f6f2318-98a3-48e1-b667-fbede00709c5",
        "executionInfo": {
          "status": "ok",
          "timestamp": 1526045340782,
          "user_tz": -180,
          "elapsed": 933,
          "user": {
            "displayName": "Tuğçe Ünlü",
            "photoUrl": "https://lh3.googleusercontent.com/a/default-user=s128",
            "userId": "115370418158707249539"
          }
        }
      },
      "cell_type": "code",
      "source": [
        "print(classification_report(Y_true, Y_pred ,target_names=target_names))"
      ],
      "execution_count": 64,
      "outputs": [
        {
          "output_type": "stream",
          "text": [
            "                 precision    recall  f1-score   support\n",
            "\n",
            "class 0(MALIGN)       0.10      0.06      0.08        31\n",
            "class 1(BENIGN)       0.13      0.45      0.20        38\n",
            "class 2(NORMAL)       0.61      0.22      0.32       125\n",
            "\n",
            "    avg / total       0.44      0.24      0.26       194\n",
            "\n"
          ],
          "name": "stdout"
        }
      ]
    },
    {
      "metadata": {
        "id": "5VyZuinN58nk",
        "colab_type": "code",
        "colab": {
          "autoexec": {
            "startup": false,
            "wait_interval": 0
          }
        }
      },
      "cell_type": "code",
      "source": [
        ""
      ],
      "execution_count": 0,
      "outputs": []
    }
  ]
}